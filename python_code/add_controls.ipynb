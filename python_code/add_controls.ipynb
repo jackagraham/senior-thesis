{
 "cells": [
  {
   "cell_type": "code",
   "execution_count": 21,
   "metadata": {},
   "outputs": [],
   "source": [
    "import pandas as pd\n",
    "import numpy as np\n",
    "import math\n",
    "\n",
    "main = pd.read_csv('combined_data.csv')\n",
    "main['year'] = main['month'].map(lambda x: int('20'+x[3:]))\n",
    "\n",
    "main_state = pd.read_csv('all_state_trips_lag.csv')\n",
    "main_state_month = pd.read_csv('combined_state_data.csv')\n",
    "state_month_mode = pd.read_csv('combined_state_mode_data.csv')"
   ]
  },
  {
   "cell_type": "code",
   "execution_count": 22,
   "metadata": {},
   "outputs": [],
   "source": [
    "yrs = [2006, 2007, 2008, 2009, 2010, 2011, 2012, 2013, 2014, 2015, 2016\n",
    "      ,2017, 2018]\n",
    "\n",
    "cities = {'Boston': 'Boston city, Massachusetts', 'Chicago': 'Chicago city, Illinois', \n",
    "          'Cleveland':'Cleveland city, Ohio', 'Denver':'Denver city, Colorado', 'Houston':'Houston city, Texas', \n",
    "         'LA':'Los Angeles city, California', 'Miami':'Miami city, Florida', 'NYC':'New York city, New York', \n",
    "          'San Francisco':'San Francisco city, California', 'Seattle':'Seattle city, Washington'}"
   ]
  },
  {
   "cell_type": "code",
   "execution_count": 23,
   "metadata": {},
   "outputs": [],
   "source": [
    "def unfuck_columns(df):\n",
    "    inc = [s for s in df.columns if \"Adjusted Dollars\" in s]\n",
    "    df = df.rename(columns = {inc[0]:'Median Household Income'})\n",
    "    if 'Average Commute to Work (In Min)' in df.columns:\n",
    "        df = df.rename(columns = {'Average Commute to Work (In Min)':'Average Commute to Work (in Min)'})\n",
    "    if 'Average Commute to Work (in min)' in df.columns:\n",
    "        df = df.rename(columns = {'Average Commute to Work (in min)':'Average Commute to Work (in Min)'})\n",
    "    if 'Car, truck, or van' in df.columns:\n",
    "        df = df.rename(columns = {'Car, truck, or van':'Car, Truck, or Van'})\n",
    "    if 'Other means' in df.columns:\n",
    "        df = df.rename(columns = {'Other means':'Other Means'})\n",
    "    if 'Public transportation (Includes Taxicab)' in df.columns:\n",
    "        df = df.rename(columns = {'Public transportation (Includes Taxicab)':'Public Transportation (Includes Taxicab)'})\n",
    "    if 'Worked at home' in df.columns:\n",
    "        df = df.rename(columns = {'Worked at home':'Worked At Home'})\n",
    "    \n",
    "    return df\n",
    "    \n",
    "\n",
    "def city_yr_stats(city, year, is_state,name_dict, and_month=False, and_mode=False):\n",
    "    if is_state:\n",
    "        file = 'State_ACS/'+str(year)+'.csv'\n",
    "    else:\n",
    "        file = 'ACS/'+str(year)+'.csv'\n",
    "    df = pd.read_csv(file, index_col=0, header=1, encoding='unicode_escape')\n",
    "    df = df.dropna(how='all')\n",
    "    df = df.fillna(-1)\n",
    "    \n",
    "    Lname = name_dict[city]\n",
    "    c_loc = df.columns.get_loc(Lname)\n",
    "    cit = df.iloc[:,[c_loc,c_loc+1]]\n",
    "    cit.columns = ['extra' if 'Unnamed' in x else x for x in cit.columns]\n",
    "    cit['extra'] = cit['extra'].str.rstrip('%').astype('float') / 100.0\n",
    "    cit = cit.fillna(-1)\n",
    "    cit[Lname] = np.where(cit.extra != -1,cit['extra'] ,cit[Lname])\n",
    "    cit = cit.drop(columns='extra')\n",
    "    cit= cit.T\n",
    "    if is_state:\n",
    "        if and_month:\n",
    "            cit['state'] = city\n",
    "        else:\n",
    "            cit['State'] = city\n",
    "    else:\n",
    "        cit['city'] = city\n",
    "    cit['year'] = year\n",
    "    \n",
    "    if is_state:\n",
    "        if and_month:\n",
    "            if and_mode:\n",
    "                samp = state_month_mode[(state_month_mode.state==city) & (state_month_mode.year==year)]\n",
    "                res = pd.merge(cit, samp, on=['state','year'], sort=True)\n",
    "                res = res.loc[:,~res.columns.duplicated()]\n",
    "                res1 = unfuck_columns(res)\n",
    "            else:\n",
    "                samp = main_state_month[(main_state_month.state==city) & (main_state_month.year==year)]\n",
    "                res = pd.merge(cit, samp, on=['state','year'], sort=True)\n",
    "                res = res.loc[:,~res.columns.duplicated()]\n",
    "                res1 = unfuck_columns(res)\n",
    "                \n",
    "        else:\n",
    "            samp = main_state[(main_state.State==city) & (main_state.year==year)]\n",
    "            res = pd.merge(cit, samp, on=['State','year'], sort=True)\n",
    "            res = res.loc[:,~res.columns.duplicated()]\n",
    "            res1 = unfuck_columns(res)\n",
    "        \n",
    "    else:\n",
    "        samp = main[(main.city==city) & (main.year==year)]\n",
    "        res = pd.merge(cit, samp, on=['city','year'], sort=True)\n",
    "        res = res.loc[:,~res.columns.duplicated()]\n",
    "        res1 = unfuck_columns(res)\n",
    "\n",
    "    return res1\n"
   ]
  },
  {
   "cell_type": "code",
   "execution_count": 24,
   "metadata": {},
   "outputs": [
    {
     "name": "stderr",
     "output_type": "stream",
     "text": [
      "C:\\Users\\Jack Graham\\Anaconda3\\lib\\site-packages\\ipykernel_launcher.py:33: SettingWithCopyWarning: \n",
      "A value is trying to be set on a copy of a slice from a DataFrame.\n",
      "Try using .loc[row_indexer,col_indexer] = value instead\n",
      "\n",
      "See the caveats in the documentation: http://pandas.pydata.org/pandas-docs/stable/user_guide/indexing.html#returning-a-view-versus-a-copy\n"
     ]
    }
   ],
   "source": [
    "test0 = city_yr_stats('Boston', 2017, False, cities)\n",
    "full_df = pd.DataFrame(columns = test0.columns)"
   ]
  },
  {
   "cell_type": "code",
   "execution_count": 25,
   "metadata": {},
   "outputs": [
    {
     "name": "stderr",
     "output_type": "stream",
     "text": [
      "C:\\Users\\Jack Graham\\Anaconda3\\lib\\site-packages\\ipykernel_launcher.py:33: SettingWithCopyWarning: \n",
      "A value is trying to be set on a copy of a slice from a DataFrame.\n",
      "Try using .loc[row_indexer,col_indexer] = value instead\n",
      "\n",
      "See the caveats in the documentation: http://pandas.pydata.org/pandas-docs/stable/user_guide/indexing.html#returning-a-view-versus-a-copy\n"
     ]
    },
    {
     "name": "stdout",
     "output_type": "stream",
     "text": [
      "(1560, 47)\n"
     ]
    }
   ],
   "source": [
    "for city in cities:\n",
    "    for yr in yrs:\n",
    "        cur_df = city_yr_stats(city, yr, False, cities)\n",
    "        full_df = pd.concat([full_df, cur_df])\n",
    "                \n",
    "print(full_df.shape)"
   ]
  },
  {
   "cell_type": "code",
   "execution_count": 26,
   "metadata": {},
   "outputs": [],
   "source": [
    "full_df['Median Household Income'] = full_df['Median Household Income'].str.lstrip('$')"
   ]
  },
  {
   "cell_type": "code",
   "execution_count": 27,
   "metadata": {},
   "outputs": [],
   "source": [
    "full_df.to_csv('full_data.csv', index=False)"
   ]
  },
  {
   "cell_type": "code",
   "execution_count": 28,
   "metadata": {},
   "outputs": [],
   "source": [
    "states = {\n",
    "        'AK': 'Alaska', 'AL': 'Alabama',\n",
    "        'AR': 'Arkansas', 'AZ': 'Arizona',\n",
    "        'CA': 'California', 'CO': 'Colorado',\n",
    "        'CT': 'Connecticut', 'DC': 'District of Columbia',\n",
    "        'DE': 'Delaware', 'FL': 'Florida',\n",
    "        'GA': 'Georgia',\n",
    "        'HI': 'Hawaii', 'IA': 'Iowa',\n",
    "        'ID': 'Idaho', 'IL': 'Illinois',\n",
    "        'IN': 'Indiana', 'KS': 'Kansas',\n",
    "        'KY': 'Kentucky', 'LA': 'Louisiana',\n",
    "        'MA': 'Massachusetts', 'MD': 'Maryland',\n",
    "        'ME': 'Maine', 'MI': 'Michigan',\n",
    "        'MN': 'Minnesota', 'MO': 'Missouri',\n",
    "        'MS': 'Mississippi', 'MT': 'Montana',\n",
    "        'NC': 'North Carolina', 'ND': 'North Dakota',\n",
    "        'NE': 'Nebraska', 'NH': 'New Hampshire',\n",
    "        'NJ': 'New Jersey', 'NM': 'New Mexico',\n",
    "        'NV': 'Nevada', 'NY': 'New York',\n",
    "        'OH': 'Ohio', 'OK': 'Oklahoma',\n",
    "        'OR': 'Oregon', 'PA': 'Pennsylvania',\n",
    "        'RI': 'Rhode Island', 'SC': 'South Carolina',\n",
    "        'SD': 'South Dakota', 'TN': 'Tennessee',\n",
    "        'TX': 'Texas', 'UT': 'Utah',\n",
    "        'VA': 'Virginia', 'VT': 'Vermont',\n",
    "        'WA': 'Washington', 'WI': 'Wisconsin',\n",
    "        'WV': 'West Virginia', 'WY': 'Wyoming'\n",
    "}\n",
    "\n",
    "some_states = {'CA':'California', 'CO':'Colorado', 'FL':'Florida', 'MA':'Massachusetts','MN':'Minnesota', 'NY':'New York',\n",
    "         'OH':'Ohio', 'TX':'Texas', 'WA':'Washington'}\n"
   ]
  },
  {
   "cell_type": "code",
   "execution_count": 29,
   "metadata": {},
   "outputs": [
    {
     "name": "stderr",
     "output_type": "stream",
     "text": [
      "C:\\Users\\Jack Graham\\Anaconda3\\lib\\site-packages\\ipykernel_launcher.py:33: SettingWithCopyWarning: \n",
      "A value is trying to be set on a copy of a slice from a DataFrame.\n",
      "Try using .loc[row_indexer,col_indexer] = value instead\n",
      "\n",
      "See the caveats in the documentation: http://pandas.pydata.org/pandas-docs/stable/user_guide/indexing.html#returning-a-view-versus-a-copy\n"
     ]
    }
   ],
   "source": [
    "test1 = city_yr_stats('AL', 2017, True, states)\n",
    "state_df = pd.DataFrame(columns = test1.columns)"
   ]
  },
  {
   "cell_type": "code",
   "execution_count": 30,
   "metadata": {},
   "outputs": [
    {
     "name": "stderr",
     "output_type": "stream",
     "text": [
      "C:\\Users\\Jack Graham\\Anaconda3\\lib\\site-packages\\ipykernel_launcher.py:33: SettingWithCopyWarning: \n",
      "A value is trying to be set on a copy of a slice from a DataFrame.\n",
      "Try using .loc[row_indexer,col_indexer] = value instead\n",
      "\n",
      "See the caveats in the documentation: http://pandas.pydata.org/pandas-docs/stable/user_guide/indexing.html#returning-a-view-versus-a-copy\n"
     ]
    },
    {
     "name": "stdout",
     "output_type": "stream",
     "text": [
      "(612, 44)\n"
     ]
    }
   ],
   "source": [
    "yrs2 = [2006, 2007, 2008, 2009, 2010, 2011, 2012, 2013, 2014, 2015, 2016\n",
    "      ,2017]\n",
    "\n",
    "for state in states:\n",
    "    for yr in yrs2:\n",
    "        cur_df = city_yr_stats(state, yr, True, states)\n",
    "        state_df = pd.concat([state_df, cur_df])\n",
    "                \n",
    "print(state_df.shape)"
   ]
  },
  {
   "cell_type": "code",
   "execution_count": 31,
   "metadata": {},
   "outputs": [
    {
     "data": {
      "text/html": [
       "<div>\n",
       "<style scoped>\n",
       "    .dataframe tbody tr th:only-of-type {\n",
       "        vertical-align: middle;\n",
       "    }\n",
       "\n",
       "    .dataframe tbody tr th {\n",
       "        vertical-align: top;\n",
       "    }\n",
       "\n",
       "    .dataframe thead th {\n",
       "        text-align: right;\n",
       "    }\n",
       "</style>\n",
       "<table border=\"1\" class=\"dataframe\">\n",
       "  <thead>\n",
       "    <tr style=\"text-align: right;\">\n",
       "      <th></th>\n",
       "      <th>Total Population</th>\n",
       "      <th>Area Total:</th>\n",
       "      <th>Area (Land)</th>\n",
       "      <th>Area (Water)</th>\n",
       "      <th>Total Population:</th>\n",
       "      <th>Less than 5 Years</th>\n",
       "      <th>Less than 10 Years</th>\n",
       "      <th>Less than 15 Years</th>\n",
       "      <th>Less than 18 Years</th>\n",
       "      <th>Less than 25 Years</th>\n",
       "      <th>...</th>\n",
       "      <th>Not a Citizen</th>\n",
       "      <th>State</th>\n",
       "      <th>year</th>\n",
       "      <th>gtax</th>\n",
       "      <th>gprice</th>\n",
       "      <th>HR</th>\n",
       "      <th>LR</th>\n",
       "      <th>CR</th>\n",
       "      <th>Bus</th>\n",
       "      <th>panelvar</th>\n",
       "    </tr>\n",
       "  </thead>\n",
       "  <tbody>\n",
       "    <tr>\n",
       "      <td>0</td>\n",
       "      <td>670,053</td>\n",
       "      <td>663,267.26</td>\n",
       "      <td>0.862</td>\n",
       "      <td>0.138</td>\n",
       "      <td>670,053</td>\n",
       "      <td>0.071</td>\n",
       "      <td>0.145</td>\n",
       "      <td>0.217</td>\n",
       "      <td>0.268</td>\n",
       "      <td>0.38</td>\n",
       "      <td>...</td>\n",
       "      <td>0.037</td>\n",
       "      <td>AK</td>\n",
       "      <td>2006</td>\n",
       "      <td>0.08</td>\n",
       "      <td>2.591908</td>\n",
       "      <td>4600050.0</td>\n",
       "      <td>4600050.0</td>\n",
       "      <td>4600050.0</td>\n",
       "      <td>4600050.0</td>\n",
       "      <td>1</td>\n",
       "    </tr>\n",
       "    <tr>\n",
       "      <td>0</td>\n",
       "      <td>683,478</td>\n",
       "      <td>663,267.26</td>\n",
       "      <td>0.862</td>\n",
       "      <td>0.138</td>\n",
       "      <td>683,478</td>\n",
       "      <td>0.074</td>\n",
       "      <td>0.143</td>\n",
       "      <td>0.214</td>\n",
       "      <td>0.265</td>\n",
       "      <td>0.383</td>\n",
       "      <td>...</td>\n",
       "      <td>0.035</td>\n",
       "      <td>AK</td>\n",
       "      <td>2007</td>\n",
       "      <td>0.08</td>\n",
       "      <td>2.754354</td>\n",
       "      <td>4761546.0</td>\n",
       "      <td>4761546.0</td>\n",
       "      <td>4761546.0</td>\n",
       "      <td>4761546.0</td>\n",
       "      <td>1</td>\n",
       "    </tr>\n",
       "    <tr>\n",
       "      <td>0</td>\n",
       "      <td>686,293</td>\n",
       "      <td>663,267.26</td>\n",
       "      <td>0.862</td>\n",
       "      <td>0.138</td>\n",
       "      <td>686,293</td>\n",
       "      <td>0.075</td>\n",
       "      <td>0.146</td>\n",
       "      <td>0.217</td>\n",
       "      <td>0.263</td>\n",
       "      <td>0.381</td>\n",
       "      <td>...</td>\n",
       "      <td>0.031</td>\n",
       "      <td>AK</td>\n",
       "      <td>2008</td>\n",
       "      <td>0.08</td>\n",
       "      <td>3.590647</td>\n",
       "      <td>5079974.0</td>\n",
       "      <td>5079974.0</td>\n",
       "      <td>5079974.0</td>\n",
       "      <td>5079974.0</td>\n",
       "      <td>1</td>\n",
       "    </tr>\n",
       "    <tr>\n",
       "      <td>0</td>\n",
       "      <td>698,473</td>\n",
       "      <td>663,267.26</td>\n",
       "      <td>0.862</td>\n",
       "      <td>0.138</td>\n",
       "      <td>698,473</td>\n",
       "      <td>0.078</td>\n",
       "      <td>0.143</td>\n",
       "      <td>0.218</td>\n",
       "      <td>0.263</td>\n",
       "      <td>0.383</td>\n",
       "      <td>...</td>\n",
       "      <td>0.033</td>\n",
       "      <td>AK</td>\n",
       "      <td>2009</td>\n",
       "      <td>0.08</td>\n",
       "      <td>2.803689</td>\n",
       "      <td>5078129.0</td>\n",
       "      <td>5078129.0</td>\n",
       "      <td>5078129.0</td>\n",
       "      <td>5078129.0</td>\n",
       "      <td>1</td>\n",
       "    </tr>\n",
       "    <tr>\n",
       "      <td>0</td>\n",
       "      <td>713,985</td>\n",
       "      <td>665,384.10</td>\n",
       "      <td>0.858</td>\n",
       "      <td>0.142</td>\n",
       "      <td>713,985</td>\n",
       "      <td>0.075</td>\n",
       "      <td>0.145</td>\n",
       "      <td>0.218</td>\n",
       "      <td>0.264</td>\n",
       "      <td>0.369</td>\n",
       "      <td>...</td>\n",
       "      <td>0.035</td>\n",
       "      <td>AK</td>\n",
       "      <td>2010</td>\n",
       "      <td>0.08</td>\n",
       "      <td>3.366833</td>\n",
       "      <td>5089725.0</td>\n",
       "      <td>5089725.0</td>\n",
       "      <td>5089725.0</td>\n",
       "      <td>5089725.0</td>\n",
       "      <td>1</td>\n",
       "    </tr>\n",
       "  </tbody>\n",
       "</table>\n",
       "<p>5 rows × 44 columns</p>\n",
       "</div>"
      ],
      "text/plain": [
       "  Total Population Area Total: Area (Land) Area (Water) Total Population:  \\\n",
       "0          670,053  663,267.26       0.862        0.138           670,053   \n",
       "0          683,478  663,267.26       0.862        0.138           683,478   \n",
       "0          686,293  663,267.26       0.862        0.138           686,293   \n",
       "0          698,473  663,267.26       0.862        0.138           698,473   \n",
       "0          713,985  665,384.10       0.858        0.142           713,985   \n",
       "\n",
       "  Less than 5 Years Less than 10 Years Less than 15 Years Less than 18 Years  \\\n",
       "0             0.071              0.145              0.217              0.268   \n",
       "0             0.074              0.143              0.214              0.265   \n",
       "0             0.075              0.146              0.217              0.263   \n",
       "0             0.078              0.143              0.218              0.263   \n",
       "0             0.075              0.145              0.218              0.264   \n",
       "\n",
       "  Less than 25 Years  ... Not a Citizen State  year  gtax    gprice  \\\n",
       "0               0.38  ...         0.037    AK  2006  0.08  2.591908   \n",
       "0              0.383  ...         0.035    AK  2007  0.08  2.754354   \n",
       "0              0.381  ...         0.031    AK  2008  0.08  3.590647   \n",
       "0              0.383  ...         0.033    AK  2009  0.08  2.803689   \n",
       "0              0.369  ...         0.035    AK  2010  0.08  3.366833   \n",
       "\n",
       "          HR         LR         CR        Bus panelvar  \n",
       "0  4600050.0  4600050.0  4600050.0  4600050.0        1  \n",
       "0  4761546.0  4761546.0  4761546.0  4761546.0        1  \n",
       "0  5079974.0  5079974.0  5079974.0  5079974.0        1  \n",
       "0  5078129.0  5078129.0  5078129.0  5078129.0        1  \n",
       "0  5089725.0  5089725.0  5089725.0  5089725.0        1  \n",
       "\n",
       "[5 rows x 44 columns]"
      ]
     },
     "execution_count": 31,
     "metadata": {},
     "output_type": "execute_result"
    }
   ],
   "source": [
    "state_df['Median Household Income'] = state_df['Median Household Income'].str.lstrip('$')\n",
    "state_df.head()"
   ]
  },
  {
   "cell_type": "code",
   "execution_count": 32,
   "metadata": {},
   "outputs": [],
   "source": [
    "state_df.to_csv('state_controls.csv', index=False)"
   ]
  },
  {
   "cell_type": "code",
   "execution_count": 33,
   "metadata": {},
   "outputs": [
    {
     "name": "stderr",
     "output_type": "stream",
     "text": [
      "C:\\Users\\Jack Graham\\Anaconda3\\lib\\site-packages\\ipykernel_launcher.py:33: SettingWithCopyWarning: \n",
      "A value is trying to be set on a copy of a slice from a DataFrame.\n",
      "Try using .loc[row_indexer,col_indexer] = value instead\n",
      "\n",
      "See the caveats in the documentation: http://pandas.pydata.org/pandas-docs/stable/user_guide/indexing.html#returning-a-view-versus-a-copy\n"
     ]
    }
   ],
   "source": [
    "test2 = city_yr_stats('CA', 2017, True, states, True)\n",
    "state_month_df = pd.DataFrame(columns = test2.columns)\n",
    "\n",
    "for state in some_states:\n",
    "    for yr in yrs2:\n",
    "        cur_df = city_yr_stats(state, yr, True, states, True)\n",
    "        state_month_df = pd.concat([state_month_df, cur_df])\n",
    "                \n"
   ]
  },
  {
   "cell_type": "code",
   "execution_count": 34,
   "metadata": {},
   "outputs": [],
   "source": [
    "state_month_df['Median Household Income'] = state_month_df['Median Household Income'].str.lstrip('$')\n",
    "state_month_df.to_csv('state_month_controls.csv', index=False)"
   ]
  },
  {
   "cell_type": "code",
   "execution_count": 35,
   "metadata": {},
   "outputs": [
    {
     "name": "stderr",
     "output_type": "stream",
     "text": [
      "C:\\Users\\Jack Graham\\Anaconda3\\lib\\site-packages\\ipykernel_launcher.py:33: SettingWithCopyWarning: \n",
      "A value is trying to be set on a copy of a slice from a DataFrame.\n",
      "Try using .loc[row_indexer,col_indexer] = value instead\n",
      "\n",
      "See the caveats in the documentation: http://pandas.pydata.org/pandas-docs/stable/user_guide/indexing.html#returning-a-view-versus-a-copy\n"
     ]
    }
   ],
   "source": [
    "test3 = city_yr_stats('CA', 2017, True, states, True, True)\n",
    "state_mode_df = pd.DataFrame(columns = test3.columns)\n",
    "\n",
    "for state in some_states:\n",
    "    for yr in yrs2:\n",
    "        cur_df = city_yr_stats(state, yr, True, states, True, True)\n",
    "        state_mode_df = pd.concat([state_mode_df, cur_df])\n",
    "        \n",
    "state_mode_df['Median Household Income'] = state_mode_df['Median Household Income'].str.lstrip('$')\n",
    "state_mode_df.to_csv('state_month_mode_controls.csv', index=False)"
   ]
  }
 ],
 "metadata": {
  "kernelspec": {
   "display_name": "Python 3",
   "language": "python",
   "name": "python3"
  },
  "language_info": {
   "codemirror_mode": {
    "name": "ipython",
    "version": 3
   },
   "file_extension": ".py",
   "mimetype": "text/x-python",
   "name": "python",
   "nbconvert_exporter": "python",
   "pygments_lexer": "ipython3",
   "version": "3.7.4"
  }
 },
 "nbformat": 4,
 "nbformat_minor": 2
}
